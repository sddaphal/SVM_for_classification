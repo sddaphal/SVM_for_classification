{
 "cells": [
  {
   "cell_type": "markdown",
   "metadata": {},
   "source": [
    "# SVM for classification\n",
    "This implements SVM to solve binary classification problems.  \n",
    "We minimize hinge loss function with penalty term:  \n",
    "$$min \\sum_{n=1}^Nmax(0,1-yi*(w^T*xi))+\\rho*(w^T*w)$$\n",
    "\n",
    "#### Notation\n",
    "w = [w1, w2, ..., b]  \n",
    "xi = [\\\\(x^{(1)}\\\\), \\\\(x^{(2)}\\\\), ...]  \n",
    "yi is 0 or 1  \n",
    "Training set is {(X,Y)} where X = [x1,x2, ..., 1] and Y = [y1, y2 ...].\n",
    "## Stochatic subgradient descent for SVM"
   ]
  },
  {
   "cell_type": "code",
   "execution_count": null,
   "metadata": {
    "collapsed": true
   },
   "outputs": [],
   "source": []
  }
 ],
 "metadata": {
  "kernelspec": {
   "display_name": "Python 3",
   "language": "python",
   "name": "python3"
  },
  "language_info": {
   "codemirror_mode": {
    "name": "ipython",
    "version": 3
   },
   "file_extension": ".py",
   "mimetype": "text/x-python",
   "name": "python",
   "nbconvert_exporter": "python",
   "pygments_lexer": "ipython3",
   "version": "3.5.0"
  }
 },
 "nbformat": 4,
 "nbformat_minor": 0
}
